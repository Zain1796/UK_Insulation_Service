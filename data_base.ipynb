{
  "cells": [
    {
      "cell_type": "markdown",
      "metadata": {
        "id": "view-in-github",
        "colab_type": "text"
      },
      "source": [
        "<a href=\"https://colab.research.google.com/github/Zain1796/UK_Insulation_Service/blob/main/data_base.ipynb\" target=\"_parent\"><img src=\"https://colab.research.google.com/assets/colab-badge.svg\" alt=\"Open In Colab\"/></a>"
      ]
    },
    {
      "cell_type": "code",
      "execution_count": null,
      "metadata": {
        "colab": {
          "base_uri": "https://localhost:8080/"
        },
        "id": "xIWGkXzw1ZPs",
        "outputId": "d0438378-d273-4508-bd8c-7a6bd815260c"
      },
      "outputs": [
        {
          "name": "stdout",
          "output_type": "stream",
          "text": [
            "Requirement already satisfied: pandas in /usr/local/lib/python3.10/dist-packages (2.2.2)\n",
            "\u001b[31mERROR: Could not find a version that satisfies the requirement sqlite3 (from versions: none)\u001b[0m\u001b[31m\n",
            "\u001b[0m\u001b[31mERROR: No matching distribution found for sqlite3\u001b[0m\u001b[31m\n",
            "\u001b[0m"
          ]
        }
      ],
      "source": [
        "pip install pandas sqlite3 openpyxl"
      ]
    },
    {
      "cell_type": "code",
      "execution_count": null,
      "metadata": {
        "colab": {
          "base_uri": "https://localhost:8080/"
        },
        "id": "od_ctZeIAnjp",
        "outputId": "8223c1ca-c491-4f00-bc63-8ad42d682367"
      },
      "outputs": [
        {
          "name": "stdout",
          "output_type": "stream",
          "text": [
            "Mounted at /content/drive\n"
          ]
        }
      ],
      "source": [
        "from google.colab import drive\n",
        "drive.mount('/content/drive')"
      ]
    },
    {
      "cell_type": "code",
      "execution_count": null,
      "metadata": {
        "id": "dk66d-Xq1elo"
      },
      "outputs": [],
      "source": [
        "import pandas as pd\n",
        "import sqlite3\n",
        "import openpyxl\n",
        "import os"
      ]
    },
    {
      "cell_type": "code",
      "execution_count": null,
      "metadata": {
        "colab": {
          "base_uri": "https://localhost:8080/"
        },
        "id": "IVtfLS3y2NyC",
        "outputId": "58593bb0-48c3-4e9f-d485-91fd8542f224"
      },
      "outputs": [
        {
          "name": "stdout",
          "output_type": "stream",
          "text": [
            "  Outcode       Postcode  Num_meters  Total_cons_kwh  Mean_cons_kwh  \\\n",
            "0    AB10  All postcodes     12895.0    3.478418e+07    2697.493903   \n",
            "1    AB10       AB10 1AU        34.0    7.052540e+04    2074.276471   \n",
            "2    AB10       AB10 1BA        29.0    1.340432e+05    4622.179310   \n",
            "3    AB10       AB10 1BB         5.0    1.876270e+04    3752.539800   \n",
            "4    AB10       AB10 1DQ         7.0    2.934340e+04    4191.914286   \n",
            "\n",
            "   Median_cons_kwh In Use?  Latitude  Longitude  Easting  ...  LSOA21 Code  \\\n",
            "0         1932.200     NaN       NaN        NaN      NaN  ...          NaN   \n",
            "1         1545.700     NaN       NaN        NaN      NaN  ...          NaN   \n",
            "2         2308.300     NaN       NaN        NaN      NaN  ...          NaN   \n",
            "3         1745.099     NaN       NaN        NaN      NaN  ...          NaN   \n",
            "4         2100.300     NaN       NaN        NaN      NaN  ...          NaN   \n",
            "\n",
            "  Lower layer super output area 2021 MSOA21 Code  \\\n",
            "0                                NaN         NaN   \n",
            "1                                NaN         NaN   \n",
            "2                                NaN         NaN   \n",
            "3                                NaN         NaN   \n",
            "4                                NaN         NaN   \n",
            "\n",
            "  Middle layer super output area 2021 Census output area 2021 IMD decile  \\\n",
            "0                                 NaN                     NaN        NaN   \n",
            "1                                 NaN                     NaN        NaN   \n",
            "2                                 NaN                     NaN        NaN   \n",
            "3                                 NaN                     NaN        NaN   \n",
            "4                                 NaN                     NaN        NaN   \n",
            "\n",
            "  Constituency Code 2024 Constituency Name 2024 Property Type Roads  \n",
            "0                    NaN                    NaN           NaN   NaN  \n",
            "1                    NaN                    NaN           NaN   NaN  \n",
            "2                    NaN                    NaN           NaN   NaN  \n",
            "3                    NaN                    NaN           NaN   NaN  \n",
            "4                    NaN                    NaN           NaN   NaN  \n",
            "\n",
            "[5 rows x 65 columns]\n"
          ]
        }
      ],
      "source": [
        "elec = pd.read_csv('/content/drive/MyDrive/insulation_Data/data_sources/Postcode_level_all_meters_electricity_2022.csv')\n",
        "gas = pd.read_csv('/content/drive/MyDrive/insulation_Data/data_sources/Postcode_level_gas_2022.csv')\n",
        "\n",
        "eng = pd.read_excel('/content/drive/MyDrive/insulation_Data/data_sources/England_postcode.xlsx')\n",
        "# excel2 = pd.read_excel('file2.xlsx', engine='openpyxl')\n",
        "\n",
        "dataframes = [elec, gas, eng]\n",
        "combined_data = pd.concat(dataframes, ignore_index=True)\n",
        "\n",
        "print(combined_data.head())"
      ]
    },
    {
      "cell_type": "code",
      "execution_count": null,
      "metadata": {
        "colab": {
          "base_uri": "https://localhost:8080/"
        },
        "id": "Lf3Zt0YTB1nS",
        "outputId": "d986a25b-0d86-4b3c-aa93-09a2b4521eed"
      },
      "outputs": [
        {
          "name": "stdout",
          "output_type": "stream",
          "text": [
            "Data saved to SQLite database.\n"
          ]
        }
      ],
      "source": [
        "conn = sqlite3.connect('combined_data.db')  # Creates a file called `combined_data.db`\n",
        "\n",
        "combined_data.to_sql('postcode_data', conn, if_exists='replace', index=False)\n",
        "print(\"Data saved to SQLite database.\")"
      ]
    },
    {
      "cell_type": "code",
      "execution_count": null,
      "metadata": {
        "colab": {
          "base_uri": "https://localhost:8080/"
        },
        "id": "8y6g5XtlClHb",
        "outputId": "6264f5f8-a467-4cf7-8c70-10afc3a1f3b9"
      },
      "outputs": [
        {
          "name": "stdout",
          "output_type": "stream",
          "text": [
            "  Outcode Postcode  Num_meters  Total_cons_kwh  Mean_cons_kwh  \\\n",
            "0     SL1  SL1 1AY        66.0      148077.737    2243.602076   \n",
            "\n",
            "   Median_cons_kwh In Use? Latitude Longitude Easting  ... LSOA21 Code  \\\n",
            "0           1845.5    None     None      None    None  ...        None   \n",
            "\n",
            "  Lower layer super output area 2021 MSOA21 Code  \\\n",
            "0                               None        None   \n",
            "\n",
            "  Middle layer super output area 2021 Census output area 2021 IMD decile  \\\n",
            "0                                None                    None       None   \n",
            "\n",
            "  Constituency Code 2024 Constituency Name 2024 Property Type Roads  \n",
            "0                   None                   None          None  None  \n",
            "\n",
            "[1 rows x 65 columns]\n"
          ]
        }
      ],
      "source": [
        "# Query for a specific postcode\n",
        "query = \"SELECT * FROM postcode_data WHERE postcode = 'SL1 1AY'\"\n",
        "result = pd.read_sql_query(query, conn)\n",
        "print(result)"
      ]
    },
    {
      "cell_type": "code",
      "execution_count": null,
      "metadata": {
        "colab": {
          "base_uri": "https://localhost:8080/"
        },
        "id": "ATqHzvjvDQ9D",
        "outputId": "4023b3cd-5bc7-40ba-a9e6-31fadd224d4e"
      },
      "outputs": [
        {
          "name": "stdout",
          "output_type": "stream",
          "text": [
            "60\n",
            "6\n",
            "6\n"
          ]
        }
      ],
      "source": [
        "print(len(eng.columns))\n",
        "print(len(elec.columns))\n",
        "print(len(gas.columns))"
      ]
    },
    {
      "cell_type": "code",
      "execution_count": null,
      "metadata": {
        "colab": {
          "background_save": true
        },
        "id": "Nwjcb-6xDduI",
        "outputId": "496ffc3d-96a4-4192-a497-bfc82545621d"
      },
      "outputs": [
        {
          "ename": "ValueError",
          "evalue": "This sheet is too large! Your sheet size is: 2491678, 65 Max sheet size is: 1048576, 16384",
          "output_type": "error",
          "traceback": [
            "\u001b[0;31m---------------------------------------------------------------------------\u001b[0m",
            "\u001b[0;31mValueError\u001b[0m                                Traceback (most recent call last)",
            "\u001b[0;32m<ipython-input-12-2a0b5a439efd>\u001b[0m in \u001b[0;36m<cell line: 1>\u001b[0;34m()\u001b[0m\n\u001b[0;32m----> 1\u001b[0;31m \u001b[0mcombined_data\u001b[0m\u001b[0;34m.\u001b[0m\u001b[0mto_excel\u001b[0m\u001b[0;34m(\u001b[0m\u001b[0;34m'combined_data.xlsx'\u001b[0m\u001b[0;34m,\u001b[0m \u001b[0mindex\u001b[0m\u001b[0;34m=\u001b[0m\u001b[0;32mFalse\u001b[0m\u001b[0;34m)\u001b[0m\u001b[0;34m\u001b[0m\u001b[0;34m\u001b[0m\u001b[0m\n\u001b[0m",
            "\u001b[0;32m/usr/local/lib/python3.10/dist-packages/pandas/util/_decorators.py\u001b[0m in \u001b[0;36mwrapper\u001b[0;34m(*args, **kwargs)\u001b[0m\n\u001b[1;32m    331\u001b[0m                     \u001b[0mstacklevel\u001b[0m\u001b[0;34m=\u001b[0m\u001b[0mfind_stack_level\u001b[0m\u001b[0;34m(\u001b[0m\u001b[0;34m)\u001b[0m\u001b[0;34m,\u001b[0m\u001b[0;34m\u001b[0m\u001b[0;34m\u001b[0m\u001b[0m\n\u001b[1;32m    332\u001b[0m                 )\n\u001b[0;32m--> 333\u001b[0;31m             \u001b[0;32mreturn\u001b[0m \u001b[0mfunc\u001b[0m\u001b[0;34m(\u001b[0m\u001b[0;34m*\u001b[0m\u001b[0margs\u001b[0m\u001b[0;34m,\u001b[0m \u001b[0;34m**\u001b[0m\u001b[0mkwargs\u001b[0m\u001b[0;34m)\u001b[0m\u001b[0;34m\u001b[0m\u001b[0;34m\u001b[0m\u001b[0m\n\u001b[0m\u001b[1;32m    334\u001b[0m \u001b[0;34m\u001b[0m\u001b[0m\n\u001b[1;32m    335\u001b[0m         \u001b[0;31m# error: \"Callable[[VarArg(Any), KwArg(Any)], Any]\" has no\u001b[0m\u001b[0;34m\u001b[0m\u001b[0;34m\u001b[0m\u001b[0m\n",
            "\u001b[0;32m/usr/local/lib/python3.10/dist-packages/pandas/core/generic.py\u001b[0m in \u001b[0;36mto_excel\u001b[0;34m(self, excel_writer, sheet_name, na_rep, float_format, columns, header, index, index_label, startrow, startcol, engine, merge_cells, inf_rep, freeze_panes, storage_options, engine_kwargs)\u001b[0m\n\u001b[1;32m   2415\u001b[0m             \u001b[0minf_rep\u001b[0m\u001b[0;34m=\u001b[0m\u001b[0minf_rep\u001b[0m\u001b[0;34m,\u001b[0m\u001b[0;34m\u001b[0m\u001b[0;34m\u001b[0m\u001b[0m\n\u001b[1;32m   2416\u001b[0m         )\n\u001b[0;32m-> 2417\u001b[0;31m         formatter.write(\n\u001b[0m\u001b[1;32m   2418\u001b[0m             \u001b[0mexcel_writer\u001b[0m\u001b[0;34m,\u001b[0m\u001b[0;34m\u001b[0m\u001b[0;34m\u001b[0m\u001b[0m\n\u001b[1;32m   2419\u001b[0m             \u001b[0msheet_name\u001b[0m\u001b[0;34m=\u001b[0m\u001b[0msheet_name\u001b[0m\u001b[0;34m,\u001b[0m\u001b[0;34m\u001b[0m\u001b[0;34m\u001b[0m\u001b[0m\n",
            "\u001b[0;32m/usr/local/lib/python3.10/dist-packages/pandas/io/formats/excel.py\u001b[0m in \u001b[0;36mwrite\u001b[0;34m(self, writer, sheet_name, startrow, startcol, freeze_panes, engine, storage_options, engine_kwargs)\u001b[0m\n\u001b[1;32m    929\u001b[0m         \u001b[0mnum_rows\u001b[0m\u001b[0;34m,\u001b[0m \u001b[0mnum_cols\u001b[0m \u001b[0;34m=\u001b[0m \u001b[0mself\u001b[0m\u001b[0;34m.\u001b[0m\u001b[0mdf\u001b[0m\u001b[0;34m.\u001b[0m\u001b[0mshape\u001b[0m\u001b[0;34m\u001b[0m\u001b[0;34m\u001b[0m\u001b[0m\n\u001b[1;32m    930\u001b[0m         \u001b[0;32mif\u001b[0m \u001b[0mnum_rows\u001b[0m \u001b[0;34m>\u001b[0m \u001b[0mself\u001b[0m\u001b[0;34m.\u001b[0m\u001b[0mmax_rows\u001b[0m \u001b[0;32mor\u001b[0m \u001b[0mnum_cols\u001b[0m \u001b[0;34m>\u001b[0m \u001b[0mself\u001b[0m\u001b[0;34m.\u001b[0m\u001b[0mmax_cols\u001b[0m\u001b[0;34m:\u001b[0m\u001b[0;34m\u001b[0m\u001b[0;34m\u001b[0m\u001b[0m\n\u001b[0;32m--> 931\u001b[0;31m             raise ValueError(\n\u001b[0m\u001b[1;32m    932\u001b[0m                 \u001b[0;34mf\"This sheet is too large! Your sheet size is: {num_rows}, {num_cols} \"\u001b[0m\u001b[0;34m\u001b[0m\u001b[0;34m\u001b[0m\u001b[0m\n\u001b[1;32m    933\u001b[0m                 \u001b[0;34mf\"Max sheet size is: {self.max_rows}, {self.max_cols}\"\u001b[0m\u001b[0;34m\u001b[0m\u001b[0;34m\u001b[0m\u001b[0m\n",
            "\u001b[0;31mValueError\u001b[0m: This sheet is too large! Your sheet size is: 2491678, 65 Max sheet size is: 1048576, 16384"
          ]
        }
      ],
      "source": []
    }
  ],
  "metadata": {
    "colab": {
      "provenance": [],
      "include_colab_link": true
    },
    "kernelspec": {
      "display_name": "Python 3",
      "name": "python3"
    },
    "language_info": {
      "name": "python"
    }
  },
  "nbformat": 4,
  "nbformat_minor": 0
}